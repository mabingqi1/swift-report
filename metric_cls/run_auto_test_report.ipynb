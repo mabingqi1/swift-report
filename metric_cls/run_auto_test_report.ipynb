{
 "cells": [
  {
   "cell_type": "code",
   "execution_count": null,
   "id": "23c7eb82",
   "metadata": {},
   "outputs": [],
   "source": [
    "from run_auto_test_report import (\n",
    "    ReportPerformanceComputor, ReportPerformanceComputorConfig\n",
    ")\n",
    "import pandas as pd"
   ]
  },
  {
   "cell_type": "code",
   "execution_count": null,
   "id": "83ef03a5",
   "metadata": {},
   "outputs": [],
   "source": [
    "config = ReportPerformanceComputorConfig()\n",
    "config.gt_name = \"report\"\n",
    "computor = ReportPerformanceComputor(config)"
   ]
  },
  {
   "cell_type": "code",
   "execution_count": null,
   "id": "74acf277",
   "metadata": {},
   "outputs": [],
   "source": [
    "path_jsonl = \"/yinghepool/mabingqi/ms-swift/output/HeadReport-tiantan_Qwen2.5VL-3B_wwwl_rslora/v0-20251014-084959/checkpoint-4000/infer_results/infer-tiantan_head_5k-test.jsonl\""
   ]
  },
  {
   "cell_type": "code",
   "execution_count": null,
   "id": "d18e654c",
   "metadata": {},
   "outputs": [],
   "source": [
    "df_performance, df_gt, df_pred = computor.deal_one_with_path_jsonl(path_jsonl)"
   ]
  },
  {
   "cell_type": "code",
   "execution_count": null,
   "id": "46524cb1",
   "metadata": {},
   "outputs": [],
   "source": [
    "df_out = df_performance.copy()\n",
    "df_diseases = df_out.iloc[:-2].sort_values(by=\"gt\", ascending=False)\n",
    "df_summary = df_out.iloc[-2:]\n",
    "df_out = pd.concat([df_diseases, df_summary])\n",
    "df_out"
   ]
  }
 ],
 "metadata": {
  "kernelspec": {
   "display_name": "ms-swift",
   "language": "python",
   "name": "python3"
  },
  "language_info": {
   "codemirror_mode": {
    "name": "ipython",
    "version": 3
   },
   "file_extension": ".py",
   "mimetype": "text/x-python",
   "name": "python",
   "nbconvert_exporter": "python",
   "pygments_lexer": "ipython3",
   "version": "3.10.18"
  }
 },
 "nbformat": 4,
 "nbformat_minor": 5
}
